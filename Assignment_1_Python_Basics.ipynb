{
 "cells": [
  {
   "cell_type": "markdown",
   "id": "32121961",
   "metadata": {},
   "source": [
    "# Assignment 1 - Python Basics"
   ]
  },
  {
   "cell_type": "markdown",
   "id": "001ca603",
   "metadata": {},
   "source": [
    "## Python Basics Variable"
   ]
  },
  {
   "cell_type": "markdown",
   "id": "a13193d0",
   "metadata": {},
   "source": [
    "### Declare two variables, `x` and `y`, and assign them integer values. Swap the values of these variables without using any temporary variable."
   ]
  },
  {
   "cell_type": "code",
   "execution_count": 1,
   "id": "7e5dcbd8",
   "metadata": {},
   "outputs": [],
   "source": [
    "x = 37\n",
    "y = 45\n",
    "x = x+y\n",
    "y = x-y\n",
    "x = x-y"
   ]
  },
  {
   "cell_type": "code",
   "execution_count": 2,
   "id": "6fd11a62",
   "metadata": {},
   "outputs": [
    {
     "data": {
      "text/plain": [
       "45"
      ]
     },
     "execution_count": 2,
     "metadata": {},
     "output_type": "execute_result"
    }
   ],
   "source": [
    "x"
   ]
  },
  {
   "cell_type": "code",
   "execution_count": 3,
   "id": "a07e6bc7",
   "metadata": {},
   "outputs": [
    {
     "data": {
      "text/plain": [
       "37"
      ]
     },
     "execution_count": 3,
     "metadata": {},
     "output_type": "execute_result"
    }
   ],
   "source": [
    "y"
   ]
  },
  {
   "cell_type": "markdown",
   "id": "5788edbe",
   "metadata": {},
   "source": [
    "### Create a program that calculates the area of a rectangle. Take the length and width as inputs from the user and store them in variables. Calculate and display the area."
   ]
  },
  {
   "cell_type": "code",
   "execution_count": 4,
   "id": "a8b36849",
   "metadata": {},
   "outputs": [
    {
     "name": "stdout",
     "output_type": "stream",
     "text": [
      "Enter length of the rectangle in cm : 75\n",
      "Enter width of the rectangle in cm : 30\n",
      "Area of the rectangle is  2250  sq.cm.\n"
     ]
    }
   ],
   "source": [
    "length = int(input(\"Enter length of the rectangle in cm : \"))\n",
    "width = int(input(\"Enter width of the rectangle in cm : \"))\n",
    "area = length*width\n",
    "print(\"Area of the rectangle is \", area,\" sq.cm.\")"
   ]
  },
  {
   "cell_type": "markdown",
   "id": "46f517e1",
   "metadata": {},
   "source": [
    "### Write a Python program that converts temperatures from Celsius to Fahrenheit. Take the temperature in Celsius as input, store it in a variable, convert it to Fahrenheit, and display the result. (0°C × 9/5) + 32 = 32°F"
   ]
  },
  {
   "cell_type": "code",
   "execution_count": 5,
   "id": "ba1efd45",
   "metadata": {},
   "outputs": [
    {
     "name": "stdout",
     "output_type": "stream",
     "text": [
      "Enter the temperature in Celsius : 21.8\n",
      "Temperature in Fahrenheit :  71.24000000000001  F\n"
     ]
    }
   ],
   "source": [
    "temp_in_C = float(input(\"Enter the temperature in Celsius : \"))\n",
    "temp_in_F = (temp_in_C*9/5)+32\n",
    "print(\"Temperature in Fahrenheit : \", temp_in_F,\" F\")"
   ]
  },
  {
   "cell_type": "markdown",
   "id": "e10290d7",
   "metadata": {},
   "source": [
    "## String Based Questions"
   ]
  },
  {
   "cell_type": "markdown",
   "id": "ecbc2af3",
   "metadata": {},
   "source": [
    "### Write a Python program that takes a string as input and prints the length of the string."
   ]
  },
  {
   "cell_type": "code",
   "execution_count": 6,
   "id": "8be330d5",
   "metadata": {},
   "outputs": [
    {
     "name": "stdout",
     "output_type": "stream",
     "text": [
      "Enter a string : Hakuna Matata\n",
      "The length of the string you entered is  13\n"
     ]
    }
   ],
   "source": [
    "str_a = input(\"Enter a string : \")\n",
    "print(\"The length of the string you entered is \", len(str_a))"
   ]
  },
  {
   "cell_type": "markdown",
   "id": "e91c4358",
   "metadata": {},
   "source": [
    "### Create a program that takes a sentence from the user and counts the number of vowels (a, e, i, o, u) in the string."
   ]
  },
  {
   "cell_type": "code",
   "execution_count": 7,
   "id": "fb500a39",
   "metadata": {},
   "outputs": [
    {
     "name": "stdout",
     "output_type": "stream",
     "text": [
      "Enter a sentence of your choice : The inexplicable logic of my life\n",
      "There are  11  vowels in the sentence you entered\n"
     ]
    }
   ],
   "source": [
    "str_b = input(\"Enter a sentence of your choice : \")\n",
    "count = 0\n",
    "for i in str_b.lower():\n",
    "    if i in ['a','e','i','o','u']:\n",
    "        count+=1\n",
    "print(\"There are \", count, \" vowels in the sentence you entered\")\n",
    "    "
   ]
  },
  {
   "cell_type": "code",
   "execution_count": 8,
   "id": "52a6f1c7",
   "metadata": {},
   "outputs": [
    {
     "name": "stdout",
     "output_type": "stream",
     "text": [
      "Enter a sentence of your choice : Where the crawdads sing\n",
      "There are  11  vowels in the sentence you entered\n"
     ]
    }
   ],
   "source": [
    "str_b = input(\"Enter a sentence of your choice : \")\n",
    "vowels=\"aeiou\"\n",
    "count_1 = sum(str_b.lower().count(vowel) for vowel in vowels)\n",
    "print(\"There are \", count, \" vowels in the sentence you entered\")"
   ]
  },
  {
   "cell_type": "markdown",
   "id": "3c8f45c6",
   "metadata": {},
   "source": [
    "### Given a string, reverse the order of characters using string slicing and print the reversed string."
   ]
  },
  {
   "cell_type": "code",
   "execution_count": 9,
   "id": "3785778b",
   "metadata": {},
   "outputs": [
    {
     "name": "stdout",
     "output_type": "stream",
     "text": [
      "Reversed string :  abmis\n"
     ]
    }
   ],
   "source": [
    "str_c =\"simba\"\n",
    "print(\"Reversed string : \",str_c[::-1])"
   ]
  },
  {
   "cell_type": "code",
   "execution_count": 10,
   "id": "95079cb8",
   "metadata": {},
   "outputs": [
    {
     "name": "stdout",
     "output_type": "stream",
     "text": [
      "Enter the string to be reversed : Murakami\n",
      "Reversed string :  imakaruM\n"
     ]
    }
   ],
   "source": [
    "str_d = input(\"Enter the string to be reversed : \")\n",
    "print(\"Reversed string : \",str_d[::-1])"
   ]
  },
  {
   "cell_type": "markdown",
   "id": "6713ac18",
   "metadata": {},
   "source": [
    "### Write a program that takes a string as input and checks if it is a palindrome (reads the same forwards and backwards)."
   ]
  },
  {
   "cell_type": "code",
   "execution_count": 11,
   "id": "b4e14f8f",
   "metadata": {},
   "outputs": [
    {
     "name": "stdout",
     "output_type": "stream",
     "text": [
      "Enter a string : The old book barn\n",
      "The old book barn  is not a palindrome.\n"
     ]
    }
   ],
   "source": [
    "str_e = input(\"Enter a string : \")\n",
    "if str_e.lower() == str_e[::-1].lower():\n",
    "    print(str_e, \" is a palindrome.\")\n",
    "else:\n",
    "    print(str_e, \" is not a palindrome.\")"
   ]
  },
  {
   "cell_type": "markdown",
   "id": "1d2eb5ff",
   "metadata": {},
   "source": [
    "### Create a program that takes a string as input and removes all the spaces from it. Print the modified string without spaces."
   ]
  },
  {
   "cell_type": "code",
   "execution_count": 12,
   "id": "c7858957",
   "metadata": {},
   "outputs": [
    {
     "name": "stdout",
     "output_type": "stream",
     "text": [
      "Enter a string : get to get her\n",
      "gettogether\n"
     ]
    }
   ],
   "source": [
    "str_g = input(\"Enter a string : \")\n",
    "str_h = str_g.replace(\" \",\"\")\n",
    "print(str_h)"
   ]
  },
  {
   "cell_type": "code",
   "execution_count": null,
   "id": "f60ce8b9",
   "metadata": {},
   "outputs": [],
   "source": []
  }
 ],
 "metadata": {
  "kernelspec": {
   "display_name": "Python 3 (ipykernel)",
   "language": "python",
   "name": "python3"
  },
  "language_info": {
   "codemirror_mode": {
    "name": "ipython",
    "version": 3
   },
   "file_extension": ".py",
   "mimetype": "text/x-python",
   "name": "python",
   "nbconvert_exporter": "python",
   "pygments_lexer": "ipython3",
   "version": "3.10.9"
  }
 },
 "nbformat": 4,
 "nbformat_minor": 5
}
